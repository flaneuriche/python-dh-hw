{
 "cells": [
  {
   "cell_type": "markdown",
   "metadata": {},
   "source": [
    "# Домашнее задание №3\n",
    "## **Задание 1**\n",
    "Скачайте текст \"Литературных анекдотов\". Напишите функцию, которая будет читать файл, лемматизировать текст с помощью pymystem3 и записывать результат в новый файл. У функции должно бы два аргумента: путь к исходному файлу и путь к файлу с лемматизированным текстом. Вызов функции тоже должен быть прописан в решении."
   ]
  },
  {
   "cell_type": "code",
   "execution_count": 3,
   "metadata": {},
   "outputs": [
    {
     "name": "stdout",
     "output_type": "stream",
     "text": [
      "C:\\Users\\Asus_PC\\python-dh-hw\n",
      ".git\n",
      ".ipynb_checkpoints\n",
      "anecdotes_l.txt\n",
      "hello.docx\n",
      "HW2.ipynb\n",
      "HW3.ipynb\n",
      "literary_anecdotes.txt\n",
      "poems\n",
      "README.md\n",
      "untitelded.ipynb\n",
      "Untitled.ipynb\n",
      "капитанская дочка.txt\n"
     ]
    }
   ],
   "source": [
    "#Импортируем модуль\n",
    "import os, re, json\n",
    "from pymystem3 import Mystem\n",
    "from collections import Counter\n",
    "#Смотрим, в какой директории мы находимся\n",
    "print(os.getcwd())\n",
    "#Проверяем наличие файлов\n",
    "for file in os.listdir('.'):\n",
    "    print(file)"
   ]
  },
  {
   "cell_type": "code",
   "execution_count": 1,
   "metadata": {},
   "outputs": [],
   "source": [
    "def my_function():\n",
    "    with open(literary_anecdotes, 'r', encoding='utf-8') as f:\n",
    "        f = open(literary_anecdotes, 'r')\n",
    "        anecdotes=f.read() #лемматизируем текст, предварительно очистив файл от пунктуации\n",
    "        anecdotes2=[w.strip(\"!\\\"#$%&'()*+,./:;<=>?@[\\]^_`{|}~„“«»†*—/\\-—\") for w in anecdotes.split()]\n",
    "        anecdotes2=[w for w in anecdotes2 if len(w) != 0]\n",
    "        anecdotes2=' '.join(anecdotes2)\n",
    "        m = Mystem()\n",
    "        lemmas = m.lemmatize(anecdotes2)\n",
    "        anecdotes3 = ''.join(lemmas) \n",
    "        f2 = open(anecdotes_l, 'w+') #записываем результат в новый файл\n",
    "        f2.write(anecdotes3)\n",
    "    return my_function()"
   ]
  },
  {
   "cell_type": "code",
   "execution_count": 2,
   "metadata": {},
   "outputs": [
    {
     "name": "stdout",
     "output_type": "stream",
     "text": [
      "Введите путь к исходному файлу\n",
      "literary_anecdotes\n",
      "Задайте имя конечного файла\n",
      "anecdotes_l\n"
     ]
    },
    {
     "ename": "TypeError",
     "evalue": "my_function() takes 0 positional arguments but 2 were given",
     "output_type": "error",
     "traceback": [
      "\u001b[1;31m---------------------------------------------------------------------------\u001b[0m",
      "\u001b[1;31mTypeError\u001b[0m                                 Traceback (most recent call last)",
      "\u001b[1;32m<ipython-input-2-04a214e14750>\u001b[0m in \u001b[0;36m<module>\u001b[1;34m\u001b[0m\n\u001b[1;32m----> 1\u001b[1;33m \u001b[0mmy_function\u001b[0m\u001b[1;33m(\u001b[0m\u001b[0minput\u001b[0m\u001b[1;33m(\u001b[0m\u001b[1;34m\"Введите путь к исходному файлу\\n\"\u001b[0m\u001b[1;33m)\u001b[0m\u001b[1;33m,\u001b[0m \u001b[0minput\u001b[0m\u001b[1;33m(\u001b[0m\u001b[1;34m\"Задайте имя конечного файла\\n\"\u001b[0m\u001b[1;33m)\u001b[0m\u001b[1;33m)\u001b[0m\u001b[1;33m\u001b[0m\u001b[1;33m\u001b[0m\u001b[0m\n\u001b[0m",
      "\u001b[1;31mTypeError\u001b[0m: my_function() takes 0 positional arguments but 2 were given"
     ]
    }
   ],
   "source": [
    "my_function(input(\"Введите путь к исходному файлу\\n\"), input(\"Задайте имя конечного файла\\n\"))"
   ]
  }
 ],
 "metadata": {
  "kernelspec": {
   "display_name": "Python 3",
   "language": "python",
   "name": "python3"
  },
  "language_info": {
   "codemirror_mode": {
    "name": "ipython",
    "version": 3
   },
   "file_extension": ".py",
   "mimetype": "text/x-python",
   "name": "python",
   "nbconvert_exporter": "python",
   "pygments_lexer": "ipython3",
   "version": "3.7.1"
  }
 },
 "nbformat": 4,
 "nbformat_minor": 2
}
